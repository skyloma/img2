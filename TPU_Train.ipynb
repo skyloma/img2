{
  "nbformat": 4,
  "nbformat_minor": 0,
  "metadata": {
    "colab": {
      "name": "TPU_Train.ipynb",
      "provenance": [],
      "collapsed_sections": [],
      "toc_visible": true,
      "include_colab_link": true
    },
    "kernelspec": {
      "name": "python3",
      "display_name": "Python 3"
    },
    "accelerator": "TPU"
  },
  "cells": [
    {
      "cell_type": "markdown",
      "metadata": {
        "id": "view-in-github",
        "colab_type": "text"
      },
      "source": [
        "<a href=\"https://colab.research.google.com/github/skyloma/img2/blob/master/TPU_Train.ipynb\" target=\"_parent\"><img src=\"https://colab.research.google.com/assets/colab-badge.svg\" alt=\"Open In Colab\"/></a>"
      ]
    },
    {
      "cell_type": "markdown",
      "metadata": {
        "id": "4tgSMqydu-0g",
        "colab_type": "text"
      },
      "source": [
        "# 加载google云盘"
      ]
    },
    {
      "cell_type": "code",
      "metadata": {
        "id": "x2PI_JcgyUdp",
        "colab_type": "code",
        "outputId": "7e470daa-6808-41d9-895b-f323c47a2e9e",
        "colab": {
          "base_uri": "https://localhost:8080/",
          "height": 121
        }
      },
      "source": [
        "from google.colab import drive\n",
        "drive.mount('/content/drive')\n"
      ],
      "execution_count": 5,
      "outputs": [
        {
          "output_type": "stream",
          "text": [
            "Go to this URL in a browser: https://accounts.google.com/o/oauth2/auth?client_id=947318989803-6bn6qk8qdgf4n4g3pfee6491hc0brc4i.apps.googleusercontent.com&redirect_uri=urn%3Aietf%3Awg%3Aoauth%3A2.0%3Aoob&scope=email%20https%3A%2F%2Fwww.googleapis.com%2Fauth%2Fdocs.test%20https%3A%2F%2Fwww.googleapis.com%2Fauth%2Fdrive%20https%3A%2F%2Fwww.googleapis.com%2Fauth%2Fdrive.photos.readonly%20https%3A%2F%2Fwww.googleapis.com%2Fauth%2Fpeopleapi.readonly&response_type=code\n",
            "\n",
            "Enter your authorization code:\n",
            "··········\n",
            "Mounted at /content/drive\n"
          ],
          "name": "stdout"
        }
      ]
    },
    {
      "cell_type": "markdown",
      "metadata": {
        "id": "l-ji808bEfQE",
        "colab_type": "text"
      },
      "source": [
        ""
      ]
    },
    {
      "cell_type": "markdown",
      "metadata": {
        "id": "nRZR_KbVc04J",
        "colab_type": "text"
      },
      "source": [
        "# 切换目录\n"
      ]
    },
    {
      "cell_type": "code",
      "metadata": {
        "id": "cf_70f35gusB",
        "colab_type": "code",
        "cellView": "both",
        "colab": {}
      },
      "source": [
        "import os\n",
        "os.chdir(\"drive/My Drive/models/research\")\n"
      ],
      "execution_count": 0,
      "outputs": []
    },
    {
      "cell_type": "code",
      "metadata": {
        "id": "qM2N3TVVWMR7",
        "colab_type": "code",
        "colab": {}
      },
      "source": [
        "!ls"
      ],
      "execution_count": 0,
      "outputs": []
    },
    {
      "cell_type": "markdown",
      "metadata": {
        "id": "Nboig2LZ8I0v",
        "colab_type": "text"
      },
      "source": [
        "# 授权访问google cloud partform"
      ]
    },
    {
      "cell_type": "code",
      "metadata": {
        "id": "OPld1XfVD5T9",
        "colab_type": "code",
        "outputId": "b95041da-c4c0-49ce-9593-5a1535e265f3",
        "colab": {
          "base_uri": "https://localhost:8080/",
          "height": 168
        }
      },
      "source": [
        "from google.colab import auth\n",
        "auth.authenticate_user()\n",
        "project_id = 'lomasky8090'\n",
        "!gcloud config set project {project_id}"
      ],
      "execution_count": 8,
      "outputs": [
        {
          "output_type": "stream",
          "text": [
            "WARNING:tensorflow:\n",
            "The TensorFlow contrib module will not be included in TensorFlow 2.0.\n",
            "For more information, please see:\n",
            "  * https://github.com/tensorflow/community/blob/master/rfcs/20180907-contrib-sunset.md\n",
            "  * https://github.com/tensorflow/addons\n",
            "  * https://github.com/tensorflow/io (for I/O related ops)\n",
            "If you depend on functionality not listed there, please file an issue.\n",
            "\n",
            "Updated property [core/project].\n"
          ],
          "name": "stdout"
        }
      ]
    },
    {
      "cell_type": "code",
      "metadata": {
        "id": "hr6YUve8XBvD",
        "colab_type": "code",
        "colab": {}
      },
      "source": [
        "!gcloud auth application-default login"
      ],
      "execution_count": 0,
      "outputs": []
    },
    {
      "cell_type": "markdown",
      "metadata": {
        "id": "pTwN43l07mxP",
        "colab_type": "text"
      },
      "source": [
        "# 复制文件到google storage"
      ]
    },
    {
      "cell_type": "code",
      "metadata": {
        "id": "567Eaq_6D5Sc",
        "colab_type": "code",
        "colab": {}
      },
      "source": [
        "bucket_name=\"lomasky8090_data\"\n",
        "# !gsutil cp -r /content/drive/My\\ Drive/ssd_mobilenet_v1_ppn_shared_box_predictor_300x300_coco14_sync_2018_07_03/ gs://{bucket_name}/data\n",
        "!gsutil cp -r /content/drive/My\\ Drive/models/research/data gs://{bucket_name}\n",
        "# !gsutil cp test.record gs://{bucket_name}/data/test.record  \n",
        "# !gsutil cp pk_rmb.pbtxt gs://{bucket_name}/data/pk_rmb.pbtxt    \n"
      ],
      "execution_count": 0,
      "outputs": []
    },
    {
      "cell_type": "markdown",
      "metadata": {
        "id": "32tofuY1ytJl",
        "colab_type": "text"
      },
      "source": [
        "# 切换到目录research下进行训练"
      ]
    },
    {
      "cell_type": "code",
      "metadata": {
        "id": "Cm9whfBQlV2p",
        "colab_type": "code",
        "outputId": "f9ef3707-733f-4106-bf02-7b5f15207cdc",
        "colab": {
          "base_uri": "https://localhost:8080/",
          "height": 84
        }
      },
      "source": [
        "from tensorboardcolab import TensorBoardColab\n",
        "tbc=TensorBoardColab(graph_path='gs://lomasky8090_data/tpu128')"
      ],
      "execution_count": 0,
      "outputs": [
        {
          "output_type": "stream",
          "text": [
            "Using TensorFlow backend.\n"
          ],
          "name": "stderr"
        },
        {
          "output_type": "stream",
          "text": [
            "Wait for 8 seconds...\n",
            "TensorBoard link:\n",
            "https://29da42d8.ngrok.io\n"
          ],
          "name": "stdout"
        }
      ]
    },
    {
      "cell_type": "code",
      "metadata": {
        "id": "TfzLAHDL1vOc",
        "colab_type": "code",
        "colab": {}
      },
      "source": [
        "!export PYTHONPATH=$PYTHONPATH:`pwd`:`pwd`/slim; python object_detection/model_tpu_main.py \\\n",
        "--gcp_project=lomasky8090  \\\n",
        "--pipeline_config_path=data/tpu128.config \\\n",
        "--model_dir=gs://lomasky8090_data/tpu128 \\\n",
        "--num_train_steps=50000 \\\n",
        "--num_eval_steps=8000"
      ],
      "execution_count": 0,
      "outputs": []
    },
    {
      "cell_type": "code",
      "metadata": {
        "id": "WPI_pOLj8mOt",
        "colab_type": "code",
        "colab": {}
      },
      "source": [
        "\n",
        "# !export PYTHONPATH=$PYTHONPATH:`pwd`:`pwd`/slim; python object_detection/model_tpu_main.py \\\n",
        "# --logtostderr \\\n",
        "# --pipeline_config_path=/content/drive/My Drive/tpu128.config \\\n",
        "# --model_dir=gs://mytf9133.appspot.com/train128 \\\n",
        "# --num_train_steps=200000 \\\n",
        "# --num_eval_steps=8000"
      ],
      "execution_count": 0,
      "outputs": []
    },
    {
      "cell_type": "code",
      "metadata": {
        "id": "ACO6RZcnq5O6",
        "colab_type": "code",
        "colab": {}
      },
      "source": [
        "# !export PYTHONPATH=$PYTHONPATH:`pwd`:`pwd`/slim; python object_detection/model_main.py \\\n",
        "# --logtostderr \\\n",
        "# --pipeline_config_path=data/gpu128.config \\\n",
        "# --model_dir=gpu128 \\\n",
        "# --num_train_steps=50000 \\\n",
        "# --num_eval_steps=8000"
      ],
      "execution_count": 0,
      "outputs": []
    },
    {
      "cell_type": "markdown",
      "metadata": {
        "id": "_RHNjNGxWXbM",
        "colab_type": "text"
      },
      "source": [
        "# 导出训练生成的文件"
      ]
    },
    {
      "cell_type": "code",
      "metadata": {
        "id": "FmB8aDQ2fLUN",
        "colab_type": "code",
        "colab": {}
      },
      "source": [
        "bucket_name=\"mytf27297_storage\"\n",
        "!gsutil cp -r  gs://{bucket_name}/tpu224  /content/drive/My\\ Drive/outdata\n",
        "  \n",
        "# !gsutil cp  gs://{bucket_name}/data/pk_rmb.pbtxt A/\n",
        "  \n",
        "# !gsutil cp  gs://{bucket_name}/A/tflite_graph.pbtxt A/  "
      ],
      "execution_count": 0,
      "outputs": []
    },
    {
      "cell_type": "markdown",
      "metadata": {
        "id": "6XYNLLWBMAAq",
        "colab_type": "text"
      },
      "source": [
        "# 导出能转换成tflte的pb"
      ]
    },
    {
      "cell_type": "code",
      "metadata": {
        "id": "QCm2dKYrJg4_",
        "colab_type": "code",
        "colab": {}
      },
      "source": [
        "!export PYTHONPATH=$PYTHONPATH:`pwd`:`pwd`/slim; python object_detection/export_tflite_ssd_graph.py \\\n",
        "--pipeline_config_path=data/tpu224.config \\\n",
        "--trained_checkpoint_prefix=/content/drive/My\\ Drive/outdata/tpu224/model.ckpt-58600 \\\n",
        "--output_directory=/content/drive/My\\ Drive/outmodel/tpu224 \\\n",
        "--add_postprocessing_op=true"
      ],
      "execution_count": 0,
      "outputs": []
    },
    {
      "cell_type": "markdown",
      "metadata": {
        "id": "HRYvUkDLLIMC",
        "colab_type": "text"
      },
      "source": [
        "# 转换没有量化的tflite"
      ]
    },
    {
      "cell_type": "code",
      "metadata": {
        "id": "MQKxRFI4W2e9",
        "colab_type": "code",
        "colab": {}
      },
      "source": [
        "# !tflite_convert \\\n",
        "#   --graph_def_file=gs://mytf9133.appspot.com/train/output/tflite_graph.pb \\\n",
        "#   --input_format=TENSORFLOW_GRAPHDEF \\\n",
        "#   --output_format=TFLITE \\\n",
        "#   --output_file=gs://mytf9133.appspot.com/train/output/tflite_graph.tflite \\\n",
        "#   --inference_type=FLOAT \\\n",
        "#   --input_shapes=1,128,128,3 \\\n",
        "#   --input_arrays=normalized_input_image_tensor \\\n",
        "#   --output_arrays='TFLite_Detection_PostProcess','TFLite_Detection_PostProcess:1','TFLite_Detection_PostProcess:2','TFLite_Detection_PostProcess:3' \\\n",
        "#   --allow_custom_ops \\"
      ],
      "execution_count": 0,
      "outputs": []
    },
    {
      "cell_type": "markdown",
      "metadata": {
        "id": "Wgene9ty-w-d",
        "colab_type": "text"
      },
      "source": [
        "# 转换量化的tflite"
      ]
    },
    {
      "cell_type": "code",
      "metadata": {
        "id": "3eiRYurJMkye",
        "colab_type": "code",
        "colab": {}
      },
      "source": [
        "!tflite_convert \\\n",
        "  --graph_def_file=/content/drive/My\\ Drive/outmodel/tpu224/tflite_graph.pb \\\n",
        "  --output_format=TFLITE \\\n",
        "  --output_file=/content/drive/My\\ Drive/outmodel/tpu224/tflite_graph52.tflite \\\n",
        "  --input_arrays=normalized_input_image_tensor \\\n",
        "  --output_arrays='TFLite_Detection_PostProcess','TFLite_Detection_PostProcess:1','TFLite_Detection_PostProcess:2','TFLite_Detection_PostProcess:3' \\\n",
        "  --input_shapes=1,224,224,3 \\\n",
        "  --inference_type=QUANTIZED_UINT8 \\\n",
        "  --mean_value=128 \\\n",
        "  --std_dev_values=128 \\\n",
        "  --default_ranges_min=0 \\\n",
        "  --default_ranges_max=6 \\\n",
        "  --change_concat_input_ranges=false \\\n",
        "  --allow_custom_ops\n",
        " "
      ],
      "execution_count": 0,
      "outputs": []
    },
    {
      "cell_type": "code",
      "metadata": {
        "id": "0ZlhfY8aEeo2",
        "colab_type": "code",
        "colab": {}
      },
      "source": [
        ""
      ],
      "execution_count": 0,
      "outputs": []
    },
    {
      "cell_type": "code",
      "metadata": {
        "id": "F0hqYCn-GgeO",
        "colab_type": "code",
        "colab": {}
      },
      "source": [
        "%cd /content "
      ],
      "execution_count": 0,
      "outputs": []
    },
    {
      "cell_type": "markdown",
      "metadata": {
        "id": "VOMgfFGD98nI",
        "colab_type": "text"
      },
      "source": [
        "# 下载模型到mytf4930工程 解压copy到gs://mytf_storage/data/"
      ]
    },
    {
      "cell_type": "code",
      "metadata": {
        "id": "GF2OiFCISBFL",
        "colab_type": "code",
        "colab": {}
      },
      "source": [
        "# cd /tmp\n",
        "# !curl -O http://download.tensorflow.org/models/object_detection/ssd_mobilenet_v1_quantized_300x300_coco14_sync_2018_07_18.tar.gz\n",
        "# !tar xzf ssd_mobilenet_v1_quantized_300x300_coco14_sync_2018_07_18.tar.gz\n",
        "\n",
        "!gsutil cp -r ssd_mobilenet_v1_quantized_300x300_coco14_sync_2018_07_18/  gs://lomasky8090_data/data/"
      ],
      "execution_count": 0,
      "outputs": []
    },
    {
      "cell_type": "code",
      "metadata": {
        "id": "dLnM6XuLfhkx",
        "colab_type": "code",
        "colab": {}
      },
      "source": [
        "import os\n",
        "os.chdir(\"object_detection\")\n"
      ],
      "execution_count": 0,
      "outputs": []
    },
    {
      "cell_type": "code",
      "metadata": {
        "id": "deCTrT6FXpss",
        "colab_type": "code",
        "colab": {}
      },
      "source": [
        "!git clone https://github.com/skyloma/img2.git  "
      ],
      "execution_count": 0,
      "outputs": []
    },
    {
      "cell_type": "code",
      "metadata": {
        "id": "t9S3eFJTfp52",
        "colab_type": "code",
        "colab": {}
      },
      "source": [
        "!export PYTHONPATH=$PYTHONPATH:`pwd`:`pwd`/slim; python xml_to_csv.py   --image_dir=img2/"
      ],
      "execution_count": 0,
      "outputs": []
    },
    {
      "cell_type": "markdown",
      "metadata": {
        "id": "lTwrweg_YUhn",
        "colab_type": "text"
      },
      "source": [
        ""
      ]
    },
    {
      "cell_type": "code",
      "metadata": {
        "id": "4aGbmQTff3Pm",
        "colab_type": "code",
        "colab": {}
      },
      "source": [
        "%cd /content  \n",
        "import os\n",
        "os.chdir(\"drive/My Drive/models/research\")\n"
      ],
      "execution_count": 0,
      "outputs": []
    },
    {
      "cell_type": "code",
      "metadata": {
        "id": "KyBgWbLVmAxZ",
        "colab_type": "code",
        "colab": {}
      },
      "source": [
        "!ls"
      ],
      "execution_count": 0,
      "outputs": []
    },
    {
      "cell_type": "code",
      "metadata": {
        "id": "4z9rXgFgfzSG",
        "colab_type": "code",
        "colab": {}
      },
      "source": [
        "! export PYTHONPATH=$PYTHONPATH:`pwd`:`pwd`/slim;python object_detection/generate_tfrecord52.py \\\n",
        "    --csv_input=object_detection/img2/train_labels.csv \\\n",
        "    --image_dir=object_detection/img2/train \\\n",
        "    --output_path=data/train.record  \n",
        "!  export PYTHONPATH=$PYTHONPATH:`pwd`:`pwd`/slim; python object_detection/generate_tfrecord52.py \\\n",
        "    --csv_input=object_detection/img2/test_labels.csv \\\n",
        "    --image_dir=object_detection/img2/test \\\n",
        "    --output_path=data/test.record  "
      ],
      "execution_count": 0,
      "outputs": []
    },
    {
      "cell_type": "code",
      "metadata": {
        "id": "cWcyNCFHpIg9",
        "colab_type": "code",
        "outputId": "b01019e4-12d1-4504-b0b6-71fe2f1bce54",
        "colab": {
          "base_uri": "https://localhost:8080/",
          "height": 214
        }
      },
      "source": [
        "import os\n",
        "# This address identifies the TPU we'll use when configuring TensorFlow.\n",
        "TPU_WORKER = 'grpc://' + os.environ['COLAB_TPU_ADDR']\n",
        "print(TPU_WORKER)\n",
        " "
      ],
      "execution_count": 0,
      "outputs": [
        {
          "output_type": "error",
          "ename": "AttributeError",
          "evalue": "ignored",
          "traceback": [
            "\u001b[0;31m---------------------------------------------------------------------------\u001b[0m",
            "\u001b[0;31mAttributeError\u001b[0m                            Traceback (most recent call last)",
            "\u001b[0;32m<ipython-input-16-ad204f2f2b33>\u001b[0m in \u001b[0;36m<module>\u001b[0;34m()\u001b[0m\n\u001b[1;32m      2\u001b[0m \u001b[0;31m# This address identifies the TPU we'll use when configuring TensorFlow.\u001b[0m\u001b[0;34m\u001b[0m\u001b[0;34m\u001b[0m\u001b[0;34m\u001b[0m\u001b[0m\n\u001b[1;32m      3\u001b[0m \u001b[0mTPU_WORKER\u001b[0m \u001b[0;34m=\u001b[0m \u001b[0;34m'grpc://'\u001b[0m \u001b[0;34m+\u001b[0m \u001b[0mos\u001b[0m\u001b[0;34m.\u001b[0m\u001b[0menviron\u001b[0m\u001b[0;34m[\u001b[0m\u001b[0;34m'COLAB_TPU_ADDR'\u001b[0m\u001b[0;34m]\u001b[0m\u001b[0;34m\u001b[0m\u001b[0;34m\u001b[0m\u001b[0m\n\u001b[0;32m----> 4\u001b[0;31m \u001b[0mprint\u001b[0m\u001b[0;34m(\u001b[0m\u001b[0mTPU_WORKER\u001b[0m\u001b[0;34m.\u001b[0m\u001b[0mname\u001b[0m\u001b[0;34m)\u001b[0m\u001b[0;34m\u001b[0m\u001b[0;34m\u001b[0m\u001b[0m\n\u001b[0m\u001b[1;32m      5\u001b[0m \u001b[0;34m\u001b[0m\u001b[0m\n",
            "\u001b[0;31mAttributeError\u001b[0m: 'str' object has no attribute 'name'"
          ]
        }
      ]
    }
  ]
}